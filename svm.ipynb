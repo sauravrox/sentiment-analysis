{
  "nbformat": 4,
  "nbformat_minor": 0,
  "metadata": {
    "colab": {
      "name": "svm.ipynb",
      "provenance": [],
      "collapsed_sections": [],
      "authorship_tag": "ABX9TyN1kKbfl+5ztWtav4JiBY9i",
      "include_colab_link": true
    },
    "kernelspec": {
      "display_name": "Python 3",
      "name": "python3"
    },
    "language_info": {
      "name": "python"
    }
  },
  "cells": [
    {
      "cell_type": "markdown",
      "metadata": {
        "id": "view-in-github",
        "colab_type": "text"
      },
      "source": [
        "<a href=\"https://colab.research.google.com/github/sauravrox/sentiment-analysis/blob/main/svm.ipynb\" target=\"_parent\"><img src=\"https://colab.research.google.com/assets/colab-badge.svg\" alt=\"Open In Colab\"/></a>"
      ]
    },
    {
      "cell_type": "code",
      "metadata": {
        "colab": {
          "base_uri": "https://localhost:8080/"
        },
        "id": "TSeiAlCJFdPU",
        "outputId": "8a4299f4-a43f-451c-e016-f5b1769f5c78"
      },
      "source": [
        "from google.colab import drive\n",
        "drive.mount(\"/content/gdrive\")"
      ],
      "execution_count": 1,
      "outputs": [
        {
          "output_type": "stream",
          "text": [
            "Mounted at /content/gdrive\n"
          ],
          "name": "stdout"
        }
      ]
    },
    {
      "cell_type": "code",
      "metadata": {
        "colab": {
          "base_uri": "https://localhost:8080/"
        },
        "id": "RfyIgILLgHDS",
        "outputId": "5ea28b54-9209-43de-f30a-f7f84e3d4df9"
      },
      "source": [
        "import pandas as pd \n",
        "import tweepy\n",
        "import sklearn\n",
        "from sklearn.preprocessing import LabelEncoder\n",
        "from sklearn import preprocessing\n",
        "from sklearn.model_selection import KFold\n",
        "from sklearn import model_selection\n",
        "from sklearn.model_selection import train_test_split # Import train_test_split function\n",
        "from sklearn import metrics\n",
        "from sklearn import svm\n",
        "import numpy as np\n",
        "import nltk\n",
        "from nltk.corpus import stopwords \n",
        "from nltk import word_tokenize\n",
        "from nltk.stem import WordNetLemmatizer \n",
        "!pip install emoji\n",
        "import emoji\n",
        "import seaborn as sns\n",
        "import matplotlib.pyplot as plt\n",
        "plt.style.use('classic')\n",
        "%matplotlib inline\n",
        "from sklearn.metrics import classification_report, accuracy_score, precision_score, recall_score, confusion_matrix, f1_score\n",
        "import pickle\n",
        "from imblearn.over_sampling import RandomOverSampler\n",
        "from collections import Counter\n",
        "from imblearn.over_sampling import SMOTE\n",
        "import matplotlib\n",
        "# print(sklearn.__version__)\n",
        "matplotlib.use('Agg')\n",
        "\n",
        "nltk.download('stopwords')\n",
        "nltk.download('wordnet')"
      ],
      "execution_count": 2,
      "outputs": [
        {
          "output_type": "stream",
          "text": [
            "Collecting emoji\n",
            "\u001b[?25l  Downloading https://files.pythonhosted.org/packages/24/fa/b3368f41b95a286f8d300e323449ab4e86b85334c2e0b477e94422b8ed0f/emoji-1.2.0-py3-none-any.whl (131kB)\n",
            "\r\u001b[K     |██▌                             | 10kB 15.0MB/s eta 0:00:01\r\u001b[K     |█████                           | 20kB 20.1MB/s eta 0:00:01\r\u001b[K     |███████▌                        | 30kB 23.4MB/s eta 0:00:01\r\u001b[K     |██████████                      | 40kB 24.2MB/s eta 0:00:01\r\u001b[K     |████████████▌                   | 51kB 26.9MB/s eta 0:00:01\r\u001b[K     |███████████████                 | 61kB 28.2MB/s eta 0:00:01\r\u001b[K     |█████████████████▌              | 71kB 29.4MB/s eta 0:00:01\r\u001b[K     |████████████████████            | 81kB 29.0MB/s eta 0:00:01\r\u001b[K     |██████████████████████▌         | 92kB 29.6MB/s eta 0:00:01\r\u001b[K     |█████████████████████████       | 102kB 31.1MB/s eta 0:00:01\r\u001b[K     |███████████████████████████▌    | 112kB 31.1MB/s eta 0:00:01\r\u001b[K     |██████████████████████████████  | 122kB 31.1MB/s eta 0:00:01\r\u001b[K     |████████████████████████████████| 133kB 31.1MB/s \n",
            "\u001b[?25hInstalling collected packages: emoji\n",
            "Successfully installed emoji-1.2.0\n"
          ],
          "name": "stdout"
        },
        {
          "output_type": "stream",
          "text": [
            "/usr/local/lib/python3.7/dist-packages/sklearn/externals/six.py:31: FutureWarning: The module is deprecated in version 0.21 and will be removed in version 0.23 since we've dropped support for Python 2.7. Please rely on the official version of six (https://pypi.org/project/six/).\n",
            "  \"(https://pypi.org/project/six/).\", FutureWarning)\n",
            "/usr/local/lib/python3.7/dist-packages/sklearn/utils/deprecation.py:144: FutureWarning: The sklearn.neighbors.base module is  deprecated in version 0.22 and will be removed in version 0.24. The corresponding classes / functions should instead be imported from sklearn.neighbors. Anything that cannot be imported from sklearn.neighbors is now part of the private API.\n",
            "  warnings.warn(message, FutureWarning)\n"
          ],
          "name": "stderr"
        },
        {
          "output_type": "stream",
          "text": [
            "[nltk_data] Downloading package stopwords to /root/nltk_data...\n",
            "[nltk_data]   Unzipping corpora/stopwords.zip.\n",
            "[nltk_data] Downloading package wordnet to /root/nltk_data...\n",
            "[nltk_data]   Unzipping corpora/wordnet.zip.\n"
          ],
          "name": "stdout"
        },
        {
          "output_type": "execute_result",
          "data": {
            "text/plain": [
              "True"
            ]
          },
          "metadata": {
            "tags": []
          },
          "execution_count": 2
        }
      ]
    },
    {
      "cell_type": "code",
      "metadata": {
        "colab": {
          "base_uri": "https://localhost:8080/",
          "height": 268
        },
        "id": "XsWfE4DYgZBG",
        "outputId": "f29e2ef6-dc86-4d2c-850f-2ad33319e733"
      },
      "source": [
        "# Local directory\n",
        "%matplotlib inline\n",
        "Reviewdata = pd.read_csv('/content/gdrive/MyDrive/thesis/train.csv', encoding='latin-1')\n",
        "Reviewdata = Reviewdata.dropna()\n",
        "count = Reviewdata.isnull().sum().sort_values(ascending=False)\n",
        "percentage = ((Reviewdata.isnull().sum()/len(Reviewdata)*100)).sort_values(ascending=False)\n",
        "missing_data = pd.concat([count, percentage], axis=1,\n",
        "keys=['Count','Percentage'])\n",
        "Reviewdata['sentiment'].value_counts().sort_values().plot(kind = 'barh')\n",
        "plt.show() "
      ],
      "execution_count": 3,
      "outputs": [
        {
          "output_type": "display_data",
          "data": {
            "image/png": "[encoded data removed]",
            "text/plain": [
              "<Figure size 432x288 with 1 Axes>"
            ]
          },
          "metadata": {
            "tags": [],
            "needs_background": "light"
          }
        }
      ]
    },
    {
      "cell_type": "code",
      "metadata": {
        "colab": {
          "base_uri": "https://localhost:8080/",
          "height": 359
        },
        "id": "g5-3UcsvgcFm",
        "outputId": "5f27a27e-5c7e-481c-b780-d68f3c4b7c18"
      },
      "source": [
        "# Apply first level cleaning\n",
        "import re\n",
        "import string\n",
        "\n",
        "#This function converts to lower-case, removes square bracket, removes numbers and punctuation\n",
        "def text_clean(text):\n",
        "    text = re.sub('\\[.*?\\]', '', text)\n",
        "    text = re.sub('[%s]' % re.escape(string.punctuation), '', text)\n",
        "    text = re.sub('\\w*\\d\\w*', '', text)\n",
        "    return text\n",
        "\n",
        "cleaned = lambda x: text_clean(x)\n",
        "Reviewdata['cleaned_description'] = pd.DataFrame(Reviewdata.selected_text.apply(cleaned))\n",
        "Reviewdata.head(10)"
      ],
      "execution_count": 4,
      "outputs": [
        {
          "output_type": "execute_result",
          "data": {
            "text/html": [
              "<div>\n",
              "<style scoped>\n",
              "    .dataframe tbody tr th:only-of-type {\n",
              "        vertical-align: middle;\n",
              "    }\n",
              "\n",
              "    .dataframe tbody tr th {\n",
              "        vertical-align: top;\n",
              "    }\n",
              "\n",
              "    .dataframe thead th {\n",
              "        text-align: right;\n",
              "    }\n",
              "</style>\n",
              "<table border=\"1\" class=\"dataframe\">\n",
              "  <thead>\n",
              "    <tr style=\"text-align: right;\">\n",
              "      <th></th>\n",
              "      <th>selected_text</th>\n",
              "      <th>sentiment</th>\n",
              "      <th>cleaned_description</th>\n",
              "    </tr>\n",
              "  </thead>\n",
              "  <tbody>\n",
              "    <tr>\n",
              "      <th>0</th>\n",
              "      <td>@switchfoot http://twitpic.com/2y1zl - Awww, t...</td>\n",
              "      <td>negative</td>\n",
              "      <td>switchfoot   Awww thats a bummer  You shoulda ...</td>\n",
              "    </tr>\n",
              "    <tr>\n",
              "      <th>1</th>\n",
              "      <td>is upset that he can't update his Facebook by ...</td>\n",
              "      <td>negative</td>\n",
              "      <td>is upset that he cant update his Facebook by t...</td>\n",
              "    </tr>\n",
              "    <tr>\n",
              "      <th>2</th>\n",
              "      <td>@Kenichan I dived many times for the ball. Man...</td>\n",
              "      <td>negative</td>\n",
              "      <td>Kenichan I dived many times for the ball Manag...</td>\n",
              "    </tr>\n",
              "    <tr>\n",
              "      <th>3</th>\n",
              "      <td>my whole body feels itchy and like its on fire</td>\n",
              "      <td>negative</td>\n",
              "      <td>my whole body feels itchy and like its on fire</td>\n",
              "    </tr>\n",
              "    <tr>\n",
              "      <th>4</th>\n",
              "      <td>@nationwideclass no, it's not behaving at all....</td>\n",
              "      <td>negative</td>\n",
              "      <td>nationwideclass no its not behaving at all im ...</td>\n",
              "    </tr>\n",
              "    <tr>\n",
              "      <th>5</th>\n",
              "      <td>@Kwesidei not the whole crew</td>\n",
              "      <td>negative</td>\n",
              "      <td>Kwesidei not the whole crew</td>\n",
              "    </tr>\n",
              "    <tr>\n",
              "      <th>6</th>\n",
              "      <td>Need a hug</td>\n",
              "      <td>negative</td>\n",
              "      <td>Need a hug</td>\n",
              "    </tr>\n",
              "    <tr>\n",
              "      <th>7</th>\n",
              "      <td>@LOLTrish hey  long time no see! Yes.. Rains a...</td>\n",
              "      <td>negative</td>\n",
              "      <td>LOLTrish hey  long time no see Yes Rains a bit...</td>\n",
              "    </tr>\n",
              "    <tr>\n",
              "      <th>8</th>\n",
              "      <td>@Tatiana_K nope they didn't have it</td>\n",
              "      <td>negative</td>\n",
              "      <td>TatianaK nope they didnt have it</td>\n",
              "    </tr>\n",
              "    <tr>\n",
              "      <th>9</th>\n",
              "      <td>@twittera que me muera ?</td>\n",
              "      <td>negative</td>\n",
              "      <td>twittera que me muera</td>\n",
              "    </tr>\n",
              "  </tbody>\n",
              "</table>\n",
              "</div>"
            ],
            "text/plain": [
              "                                       selected_text  ...                                cleaned_description\n",
              "0  @switchfoot http://twitpic.com/2y1zl - Awww, t...  ...  switchfoot   Awww thats a bummer  You shoulda ...\n",
              "1  is upset that he can't update his Facebook by ...  ...  is upset that he cant update his Facebook by t...\n",
              "2  @Kenichan I dived many times for the ball. Man...  ...  Kenichan I dived many times for the ball Manag...\n",
              "3    my whole body feels itchy and like its on fire   ...    my whole body feels itchy and like its on fire \n",
              "4  @nationwideclass no, it's not behaving at all....  ...  nationwideclass no its not behaving at all im ...\n",
              "5                      @Kwesidei not the whole crew   ...                       Kwesidei not the whole crew \n",
              "6                                        Need a hug   ...                                        Need a hug \n",
              "7  @LOLTrish hey  long time no see! Yes.. Rains a...  ...  LOLTrish hey  long time no see Yes Rains a bit...\n",
              "8               @Tatiana_K nope they didn't have it   ...                  TatianaK nope they didnt have it \n",
              "9                          @twittera que me muera ?   ...                            twittera que me muera  \n",
              "\n",
              "[10 rows x 3 columns]"
            ]
          },
          "metadata": {
            "tags": []
          },
          "execution_count": 4
        }
      ]
    },
    {
      "cell_type": "code",
      "metadata": {
        "id": "c2AWfMt9geaV"
      },
      "source": [
        "def extract_emojis(s):\n",
        "\ttweet = emoji.demojize(s)\n",
        "\ttweet = tweet.replace(\":\",\" \")\n",
        "\ttweet = ' '.join(tweet.split())\n",
        "\treturn tweet\n",
        "\n",
        "# Let's take a look at the updated text\n",
        "Reviewdata['cleaned_description_new'] = pd.DataFrame(Reviewdata['cleaned_description'].apply(cleaned))\n",
        "Reviewdata['sentiment'] = LabelEncoder().fit_transform(Reviewdata['sentiment'])\n",
        "# Reviewdata['sentiment'].plot(kind=\"bar\")"
      ],
      "execution_count": 5,
      "outputs": []
    },
    {
      "cell_type": "code",
      "metadata": {
        "id": "akLPhN0hgheN"
      },
      "source": [
        "Reviewdata['sentiment'] = LabelEncoder().fit_transform(Reviewdata['sentiment'])"
      ],
      "execution_count": 6,
      "outputs": []
    },
    {
      "cell_type": "code",
      "metadata": {
        "colab": {
          "base_uri": "https://localhost:8080/"
        },
        "id": "Tf4inUHdgi9t",
        "outputId": "a7e60f5d-b9f9-4c00-a535-f5bc8f56d5bc"
      },
      "source": [
        "from sklearn.model_selection import train_test_split\n",
        "from sklearn.pipeline import Pipeline\n",
        "\n",
        "Independent_var = Reviewdata.cleaned_description_new\n",
        "Dependent_var = Reviewdata.sentiment\n",
        "\n",
        "IV_train, IV_test, DV_train, DV_test = train_test_split(Independent_var, Dependent_var, test_size = 0.25, random_state = 225)\n",
        "from sklearn.feature_extraction.text import TfidfVectorizer\n",
        "tvec = TfidfVectorizer()\n",
        "#Create a svm Classifier\n",
        "clf_svm = svm.SVC(kernel='linear', probability=True) # Linear Kernel\n",
        "svm_model = Pipeline([('vectorizer',tvec),('classifier',clf_svm)])\n",
        "\n",
        "#Train the model using the training sets\n",
        "svm_model.fit(IV_train, DV_train)"
      ],
      "execution_count": 7,
      "outputs": [
        {
          "output_type": "execute_result",
          "data": {
            "text/plain": [
              "Pipeline(memory=None,\n",
              "         steps=[('vectorizer',\n",
              "                 TfidfVectorizer(analyzer='word', binary=False,\n",
              "                                 decode_error='strict',\n",
              "                                 dtype=<class 'numpy.float64'>,\n",
              "                                 encoding='utf-8', input='content',\n",
              "                                 lowercase=True, max_df=1.0, max_features=None,\n",
              "                                 min_df=1, ngram_range=(1, 1), norm='l2',\n",
              "                                 preprocessor=None, smooth_idf=True,\n",
              "                                 stop_words=None, strip_accents=None,\n",
              "                                 sublinear_tf=False,\n",
              "                                 token_pattern='(?u)\\\\b\\\\w\\\\w+\\\\b',\n",
              "                                 tokenizer=None, use_idf=True,\n",
              "                                 vocabulary=None)),\n",
              "                ('classifier',\n",
              "                 SVC(C=1.0, break_ties=False, cache_size=200, class_weight=None,\n",
              "                     coef0=0.0, decision_function_shape='ovr', degree=3,\n",
              "                     gamma='scale', kernel='linear', max_iter=-1,\n",
              "                     probability=True, random_state=None, shrinking=True,\n",
              "                     tol=0.001, verbose=False))],\n",
              "         verbose=False)"
            ]
          },
          "metadata": {
            "tags": []
          },
          "execution_count": 7
        }
      ]
    },
    {
      "cell_type": "code",
      "metadata": {
        "colab": {
          "base_uri": "https://localhost:8080/"
        },
        "id": "3A3IxpzXSuVb",
        "outputId": "5428a367-5246-4696-af0f-82e30154e4ff"
      },
      "source": [
        "lin_pred = svm_model.predict(IV_test)\n",
        "lin_accuracy = accuracy_score(lin_pred,DV_test)\n",
        "lin_f1 = f1_score(lin_pred,DV_test, average='weighted')\n",
        "print('Accuracy (linnomial Kernel): ', \"%.2f\" % (lin_accuracy*100))\n",
        "print('F1 (linnomial Kernel): ', \"%.2f\" % (lin_f1*100))"
      ],
      "execution_count": 8,
      "outputs": [
        {
          "output_type": "stream",
          "text": [
            "Accuracy (linnomial Kernel):  68.00\n",
            "F1 (linnomial Kernel):  68.09\n"
          ],
          "name": "stdout"
        }
      ]
    },
    {
      "cell_type": "code",
      "metadata": {
        "colab": {
          "base_uri": "https://localhost:8080/"
        },
        "id": "s1dzIdvygqC2",
        "outputId": "757436bd-e320-4bbc-e851-612cc8ecbc26"
      },
      "source": [
        "le = LabelEncoder()\n",
        "# df.region = le.fit_transform(df.region)\n",
        "\n",
        "rbf = svm.SVC(kernel='rbf', gamma=0.5, C=0.1)\n",
        "rbf_svm_model = Pipeline([('vectorizer',tvec),('classifier',rbf)])\n",
        "\n",
        "#Train the model using the training sets\n",
        "rbf_svm_model.fit(IV_train, DV_train) \n"
      ],
      "execution_count": null,
      "outputs": [
        {
          "output_type": "execute_result",
          "data": {
            "text/plain": [
              "Pipeline(memory=None,\n",
              "         steps=[('vectorizer',\n",
              "                 TfidfVectorizer(analyzer='word', binary=False,\n",
              "                                 decode_error='strict',\n",
              "                                 dtype=<class 'numpy.float64'>,\n",
              "                                 encoding='utf-8', input='content',\n",
              "                                 lowercase=True, max_df=1.0, max_features=None,\n",
              "                                 min_df=1, ngram_range=(1, 1), norm='l2',\n",
              "                                 preprocessor=None, smooth_idf=True,\n",
              "                                 stop_words=None, strip_accents=None,\n",
              "                                 sublinear_tf=False,\n",
              "                                 token_pattern='(?u)\\\\b\\\\w\\\\w+\\\\b',\n",
              "                                 tokenizer=None, use_idf=True,\n",
              "                                 vocabulary=None)),\n",
              "                ('classifier',\n",
              "                 SVC(C=0.1, break_ties=False, cache_size=200, class_weight=None,\n",
              "                     coef0=0.0, decision_function_shape='ovr', degree=3,\n",
              "                     gamma=0.5, kernel='rbf', max_iter=-1, probability=False,\n",
              "                     random_state=None, shrinking=True, tol=0.001,\n",
              "                     verbose=False))],\n",
              "         verbose=False)"
            ]
          },
          "metadata": {
            "tags": []
          },
          "execution_count": 9
        }
      ]
    },
    {
      "cell_type": "code",
      "metadata": {
        "colab": {
          "base_uri": "https://localhost:8080/"
        },
        "id": "ClE1u_dDLdfw",
        "outputId": "2925c30e-9b03-47e8-f294-2f42b8129355"
      },
      "source": [
        "rbf_svm_model_pred = rbf_svm_model.predict(IV_test)\n",
        "# rbf_pred = rbf.predict(IV_test)\n",
        "\n",
        "rbf_svm_model_accuracy = accuracy_score(rbf_svm_model_pred,DV_test)\n",
        "rbf_svm_model_f1 = f1_score(rbf_svm_model_pred,DV_test, average='weighted')\n",
        "print('Accuracy (RBF Kernel): ', \"%.2f\" % (rbf_svm_model_accuracy*100))\n",
        "print('F1 (RBF Kernel): ', \"%.2f\" % (rbf_svm_model_f1*100))\n",
        "# In the same way, the accuracy and f1 scores for SVM with RBF kernel:"
      ],
      "execution_count": null,
      "outputs": [
        {
          "output_type": "stream",
          "text": [
            "Accuracy (RBF Kernel):  62.58\n",
            "F1 (RBF Kernel):  63.79\n"
          ],
          "name": "stdout"
        }
      ]
    },
    {
      "cell_type": "code",
      "metadata": {
        "colab": {
          "base_uri": "https://localhost:8080/"
        },
        "id": "Q-Vq3mcdhCg1",
        "outputId": "32fcbd6a-17f6-41bd-eba1-b6d93f173057"
      },
      "source": [
        "# filename = 'svm_model.sav'\n",
        "# pickle.dump(svm_model, open(filename, 'wb'))\n",
        "print(\"SVM Confusion Matrix: \", confusion_matrix(rbf_svm_model_pred, DV_test))"
      ],
      "execution_count": null,
      "outputs": [
        {
          "output_type": "stream",
          "text": [
            "SVM Confusion Matrix:  [[6293 2535 2000]\n",
            " [  68 3090   64]\n",
            " [1979 2704 6255]]\n"
          ],
          "name": "stdout"
        }
      ]
    },
    {
      "cell_type": "code",
      "metadata": {
        "id": "aFbcjHo_gusd"
      },
      "source": [
        "poly = svm.SVC(kernel='poly', degree=3, C=1, decision_function_shape='ovo')\n",
        "poly_svm_model = Pipeline([('vectorizer',tvec),('classifier',poly)])\n",
        "\n",
        "# #Train the model using the training sets\n",
        "# poly_svm_model.fit(IV_train, DV_train)\n",
        "poly = poly_svm_model.fit(IV_train, DV_train)"
      ],
      "execution_count": 9,
      "outputs": []
    },
    {
      "cell_type": "code",
      "metadata": {
        "colab": {
          "base_uri": "https://localhost:8080/"
        },
        "id": "pwWWbeYlg6W9",
        "outputId": "ee389fa7-c7b8-4f70-ee6d-61e19d32a5fd"
      },
      "source": [
        "poly_pred = poly.predict(IV_test)\n",
        "# rbf_pred = rbf.predict(IV_test)\n",
        "\n",
        "poly_accuracy = accuracy_score(poly_pred,DV_test)\n",
        "poly_f1 = f1_score(poly_pred,DV_test, average='weighted')\n",
        "print('Accuracy (Polynomial Kernel): ', \"%.2f\" % (poly_accuracy*100))\n",
        "print('F1 (Polynomial Kernel): ', \"%.2f\" % (poly_f1*100))\n",
        "# In the same way, the accuracy and f1 scores for SVM with RBF kernel:"
      ],
      "execution_count": 10,
      "outputs": [
        {
          "output_type": "stream",
          "text": [
            "Accuracy (Polynomial Kernel):  74.83\n",
            "F1 (Polynomial Kernel):  74.57\n"
          ],
          "name": "stdout"
        }
      ]
    },
    {
      "cell_type": "code",
      "metadata": {
        "colab": {
          "base_uri": "https://localhost:8080/"
        },
        "id": "alHy31syg8fd",
        "outputId": "b8cf1eba-d0f1-41cd-9256-df22cbe31dae"
      },
      "source": [
        "print(\"SVM Confusion Matrix: \", confusion_matrix(poly_pred, DV_test))"
      ],
      "execution_count": null,
      "outputs": [
        {
          "output_type": "stream",
          "text": [
            "SVM Confusion Matrix:  [[6219  933 1510]\n",
            " [ 308 6057  386]\n",
            " [1813 1339 6423]]\n"
          ],
          "name": "stdout"
        }
      ]
    },
    {
      "cell_type": "code",
      "metadata": {
        "colab": {
          "base_uri": "https://localhost:8080/"
        },
        "id": "eqiuhJZWg-Xd",
        "outputId": "315e7c24-e037-44b0-8747-69e07724db55"
      },
      "source": [
        "print(\"SVM Report : \", \n",
        "classification_report(poly_pred, DV_test))"
      ],
      "execution_count": null,
      "outputs": [
        {
          "output_type": "stream",
          "text": [
            "SVM Report :                precision    recall  f1-score   support\n",
            "\n",
            "           0       0.75      0.72      0.73      8662\n",
            "           1       0.73      0.90      0.80      6751\n",
            "           2       0.77      0.67      0.72      9575\n",
            "\n",
            "    accuracy                           0.75     24988\n",
            "   macro avg       0.75      0.76      0.75     24988\n",
            "weighted avg       0.75      0.75      0.75     24988\n",
            "\n"
          ],
          "name": "stdout"
        }
      ]
    },
    {
      "cell_type": "code",
      "metadata": {
        "id": "yDdQ0CPwhEYM"
      },
      "source": [
        "consumerKey = 'Y76b838VJixCT9coY5aVaFWRv'\n",
        "consumerSecret = 'MWQiIs4rzY8zKySusGf6hPiLU8e3vAbJNV02lKi3FLhdfirUmT'\n",
        "accessToken = '1266387212150566913-HS7RCIKe86EsZFmMVMjeOF3SWlvCY5'\n",
        "accessTokenSecret = 'AnngLumAWhaKXw1avMXR8eWu1GUllVMrML1zQKy1poLBP'\n",
        "\n",
        "# Create the authentication object\n",
        "authenticate = tweepy.OAuthHandler(consumerKey, consumerSecret) \n",
        "    \n",
        "# Set the access token and access token secret\n",
        "authenticate.set_access_token(accessToken, accessTokenSecret) \n",
        "    \n",
        "# Creating the API object while passing in auth information\n",
        "api = tweepy.API(authenticate, wait_on_rate_limit = True)\n",
        "\n",
        "# Extract 100 tweets from the twitter user\n",
        "# ROOT = tk.Tk()\n",
        "\n",
        "# ROOT.withdraw()\n",
        "# the input dialog\n",
        "# USER_INP = simpledialog.askstring(title=\"Fetch Tweets\", prompt=\"Write your Twitter Handle.\")\n",
        "# posts = api.user_timeline(screen_name=USER_INP, count = 100, lang =\"en\", tweet_mode=\"extended\")\n",
        "user_data = '%23'+'biden'\n",
        "###########################################################################\n",
        "# Create a dataframe with a column called Tweets\n",
        "# :\n",
        "# Cache the stop words for speed \n",
        "cachedStopWords = stopwords.words(\"english\")\n",
        "posts = list()\n",
        "for tweet in tweepy.Cursor(api.search, q=user_data, lang='en').items(500):\n",
        "\tposts.append(tweet.text)\n"
      ],
      "execution_count": null,
      "outputs": []
    },
    {
      "cell_type": "code",
      "metadata": {
        "id": "PZwImA8IUaeP"
      },
      "source": [
        "lemmatiser = WordNetLemmatizer()\n",
        "list_posts = list()\n",
        "for p in posts:\n",
        "\ttemp = re.sub(' +', ' ', p).lower()\n",
        "\ttemp = \" \".join([lemmatiser.lemmatize(w) for w in temp.split(' ') if w not in cachedStopWords])\n",
        "\ttemp = extract_emojis(temp)\n",
        "\ttemp = text_clean(temp)\n",
        "\tlist_posts.append(temp)\n",
        "# print(list_posts)\n",
        "df = pd.DataFrame([list_post for list_post in list_posts], columns=['Tweets'])\n",
        "\n",
        "# Show the first 5 rows of data\n",
        "df.head()\n",
        "\n",
        "# Clean the tweets\n",
        "df['Tweets'] = df['Tweets'].apply(text_clean)"
      ],
      "execution_count": null,
      "outputs": []
    },
    {
      "cell_type": "code",
      "metadata": {
        "id": "KPCye8r5hGVl"
      },
      "source": [
        "#Predict the response for test dataset\n",
        "# Create a function to get the polarity\n",
        "def svm_getPolarity(text):\n",
        "\texample = [text]\n",
        "\tresult = svm_model.predict(example)\n",
        "\tif result==1:\n",
        "\t\tresult = 'neutral'\n",
        "\tif result==2:\n",
        "\t\tresult = 'positive'\n",
        "\tif result==0:\n",
        "\t\tresult = 'negative'\n",
        "\treturn result\n",
        "\n",
        "# y_pred = clf_svm.predict(IV_test)\n",
        "\n",
        "df['Polarity'] = df['Tweets'].apply(svm_getPolarity)"
      ],
      "execution_count": null,
      "outputs": []
    },
    {
      "cell_type": "code",
      "metadata": {
        "colab": {
          "base_uri": "https://localhost:8080/",
          "height": 419
        },
        "id": "1aSWaIAIhKd1",
        "outputId": "9d273f25-49ac-4e7f-fd04-7746d1517771"
      },
      "source": [
        "df"
      ],
      "execution_count": null,
      "outputs": [
        {
          "output_type": "execute_result",
          "data": {
            "text/html": [
              "<div>\n",
              "<style scoped>\n",
              "    .dataframe tbody tr th:only-of-type {\n",
              "        vertical-align: middle;\n",
              "    }\n",
              "\n",
              "    .dataframe tbody tr th {\n",
              "        vertical-align: top;\n",
              "    }\n",
              "\n",
              "    .dataframe thead th {\n",
              "        text-align: right;\n",
              "    }\n",
              "</style>\n",
              "<table border=\"1\" class=\"dataframe\">\n",
              "  <thead>\n",
              "    <tr style=\"text-align: right;\">\n",
              "      <th></th>\n",
              "      <th>Tweets</th>\n",
              "      <th>SVM_Polarity</th>\n",
              "      <th>Polarity</th>\n",
              "    </tr>\n",
              "  </thead>\n",
              "  <tbody>\n",
              "    <tr>\n",
              "      <th>0</th>\n",
              "      <td>rt zinemaniac biden creepyjoe democrats whiteh...</td>\n",
              "      <td>positive</td>\n",
              "      <td>positive</td>\n",
              "    </tr>\n",
              "    <tr>\n",
              "      <th>1</th>\n",
              "      <td>last masterpiece today facewithtearsofjoy roll...</td>\n",
              "      <td>positive</td>\n",
              "      <td>negative</td>\n",
              "    </tr>\n",
              "    <tr>\n",
              "      <th>2</th>\n",
              "      <td>rt  preserve culture  future generations somet...</td>\n",
              "      <td>positive</td>\n",
              "      <td>positive</td>\n",
              "    </tr>\n",
              "    <tr>\n",
              "      <th>3</th>\n",
              "      <td>indeed appears biden administration promised c...</td>\n",
              "      <td>positive</td>\n",
              "      <td>neutral</td>\n",
              "    </tr>\n",
              "    <tr>\n",
              "      <th>4</th>\n",
              "      <td>rt markfny economy  fed overnight repo us core...</td>\n",
              "      <td>positive</td>\n",
              "      <td>negative</td>\n",
              "    </tr>\n",
              "    <tr>\n",
              "      <th>...</th>\n",
              "      <td>...</td>\n",
              "      <td>...</td>\n",
              "      <td>...</td>\n",
              "    </tr>\n",
              "    <tr>\n",
              "      <th>495</th>\n",
              "      <td>rt bitmojimaddow potus spotted herring point t...</td>\n",
              "      <td>positive</td>\n",
              "      <td>positive</td>\n",
              "    </tr>\n",
              "    <tr>\n",
              "      <th>496</th>\n",
              "      <td>democrats biden liberalismistherealpandemic an...</td>\n",
              "      <td>positive</td>\n",
              "      <td>positive</td>\n",
              "    </tr>\n",
              "    <tr>\n",
              "      <th>497</th>\n",
              "      <td>rt  biden administration demolishing withdrawi...</td>\n",
              "      <td>positive</td>\n",
              "      <td>positive</td>\n",
              "    </tr>\n",
              "    <tr>\n",
              "      <th>498</th>\n",
              "      <td>rt bitmojimaddow potus spotted herring point t...</td>\n",
              "      <td>positive</td>\n",
              "      <td>positive</td>\n",
              "    </tr>\n",
              "    <tr>\n",
              "      <th>499</th>\n",
              "      <td>brazil shortterm fx rally obscured reform worr...</td>\n",
              "      <td>positive</td>\n",
              "      <td>positive</td>\n",
              "    </tr>\n",
              "  </tbody>\n",
              "</table>\n",
              "<p>500 rows × 3 columns</p>\n",
              "</div>"
            ],
            "text/plain": [
              "                                                Tweets SVM_Polarity  Polarity\n",
              "0    rt zinemaniac biden creepyjoe democrats whiteh...     positive  positive\n",
              "1    last masterpiece today facewithtearsofjoy roll...     positive  negative\n",
              "2    rt  preserve culture  future generations somet...     positive  positive\n",
              "3    indeed appears biden administration promised c...     positive   neutral\n",
              "4    rt markfny economy  fed overnight repo us core...     positive  negative\n",
              "..                                                 ...          ...       ...\n",
              "495  rt bitmojimaddow potus spotted herring point t...     positive  positive\n",
              "496  democrats biden liberalismistherealpandemic an...     positive  positive\n",
              "497  rt  biden administration demolishing withdrawi...     positive  positive\n",
              "498  rt bitmojimaddow potus spotted herring point t...     positive  positive\n",
              "499  brazil shortterm fx rally obscured reform worr...     positive  positive\n",
              "\n",
              "[500 rows x 3 columns]"
            ]
          },
          "metadata": {
            "tags": []
          },
          "execution_count": 43
        }
      ]
    },
    {
      "cell_type": "code",
      "metadata": {
        "colab": {
          "base_uri": "https://localhost:8080/",
          "height": 289
        },
        "id": "u7S9fkwdrS4P",
        "outputId": "faf1c688-d0a1-46b4-f87b-20cf2947b5f6"
      },
      "source": [
        "# use to set style of background of plot\n",
        "sns.set(style=\"whitegrid\")\n",
        " \n",
        "# loading data-set\n",
        "lr_data = df\n",
        "keys=['Count','Percentage']\n",
        "df['Polarity'].value_counts().sort_values().plot(kind = 'barh')\n",
        "# sns.stripplot(x=df['Tweets'], y=df['Polarity'], data=iris,jitter=True)\n",
        "\n",
        "plt.title('Graph')\n",
        " \n",
        "# function to show plot\n",
        "plt.show()"
      ],
      "execution_count": null,
      "outputs": [
        {
          "output_type": "display_data",
          "data": {
            "image/png": "[encoded data removed]",
            "text/plain": [
              "<Figure size 432x288 with 1 Axes>"
            ]
          },
          "metadata": {
            "tags": []
          }
        }
      ]
    },
    {
      "cell_type": "code",
      "metadata": {
        "colab": {
          "base_uri": "https://localhost:8080/",
          "height": 323
        },
        "id": "STY1Bb8ZrjrY",
        "outputId": "effdc280-4ecd-47a7-dcc9-b6bd9acae82b"
      },
      "source": [
        "sn = sns.stripplot(x='Tweets', y=df['Polarity'], data=lr_data,jitter=True)\n",
        "sn.set(xticklabels=[])\n",
        "sn.set(xlabel=None)\n",
        "\n",
        "plt.title('Graph')\n",
        " \n",
        "# function to show plot\n",
        "plt.show(sns)"
      ],
      "execution_count": null,
      "outputs": [
        {
          "output_type": "stream",
          "text": [
            "/usr/local/lib/python3.7/dist-packages/ipykernel_launcher.py:8: MatplotlibDeprecationWarning: Passing the block parameter of show() positionally is deprecated since Matplotlib 3.1; the parameter will become keyword-only in 3.3.\n",
            "  \n"
          ],
          "name": "stderr"
        },
        {
          "output_type": "display_data",
          "data": {
            "image/png": "[encoded data removed]",
            "text/plain": [
              "<Figure size 432x288 with 1 Axes>"
            ]
          },
          "metadata": {
            "tags": []
          }
        }
      ]
    },
    {
      "cell_type": "code",
      "metadata": {
        "colab": {
          "base_uri": "https://localhost:8080/",
          "height": 307
        },
        "id": "wwQifbsxrrYZ",
        "outputId": "9424450e-73e3-478d-d9f6-deb41a45984d"
      },
      "source": [
        "from sklearn.metrics import roc_auc_score, roc_curve\n",
        "\n",
        "y_prob_pred = svm_model.predict_proba(IV_test)\n",
        "\n",
        "#roc auc score\n",
        "roc_auc_score(DV_test, y_prob_pred, multi_class='ovo', average='weighted')\n",
        "\n",
        "fpr = {}\n",
        "tpr = {}\n",
        "thresh ={}\n",
        "\n",
        "n_class = 3\n",
        "\n",
        "for i in range(n_class):    \n",
        "    fpr[i], tpr[i], thresh[i] = roc_curve(DV_test, y_prob_pred[:,i], pos_label=i)\n",
        "    \n",
        "# plotting    \n",
        "plt.plot(fpr[0], tpr[0], linestyle='--',color='orange', label='Class 0 vs Rest')\n",
        "plt.plot(fpr[1], tpr[1], linestyle='--',color='green', label='Class 1 vs Rest')\n",
        "plt.plot(fpr[2], tpr[2], linestyle='--',color='blue', label='Class 2 vs Rest')\n",
        "plt.title('Multiclass ROC curve')\n",
        "plt.xlabel('False Positive Rate')\n",
        "plt.ylabel('True Positive rate')\n",
        "# plt.legend(loc='best')\n",
        "plt.savefig('Multiclass ROC',dpi=300);\n"
      ],
      "execution_count": null,
      "outputs": [
        {
          "output_type": "display_data",
          "data": {
            "image/png": "[encoded data removed]",
            "text/plain": [
              "<Figure size 432x288 with 1 Axes>"
            ]
          },
          "metadata": {
            "tags": []
          }
        }
      ]
    },
    {
      "cell_type": "code",
      "metadata": {
        "colab": {
          "base_uri": "https://localhost:8080/",
          "height": 456
        },
        "id": "rDxEc6ISwzwi",
        "outputId": "9bb6794f-d828-4a18-d7da-02bcd23f1397"
      },
      "source": [
        "cm=metrics.confusion_matrix(poly_pred,DV_test)\n",
        "plt.figure(figsize = (10,7))\n",
        "sns.heatmap(cm, fmt='', annot=True)"
      ],
      "execution_count": 11,
      "outputs": [
        {
          "output_type": "execute_result",
          "data": {
            "text/plain": [
              "<matplotlib.axes._subplots.AxesSubplot at 0x7f0838b5e7d0>"
            ]
          },
          "metadata": {
            "tags": []
          },
          "execution_count": 11
        },
        {
          "output_type": "display_data",
          "data": {
            "image/png": "[encoded data removed]",
            "text/plain": [
              "<Figure size 720x504 with 2 Axes>"
            ]
          },
          "metadata": {
            "tags": [],
            "needs_background": "light"
          }
        }
      ]
    }
  ]
}